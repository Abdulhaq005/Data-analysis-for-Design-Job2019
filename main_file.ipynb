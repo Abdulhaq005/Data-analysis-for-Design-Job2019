{
 "cells": [
  {
   "cell_type": "markdown",
   "metadata": {},
   "source": [
    "Designsense2019 dataset  "
   ]
  },
  {
   "cell_type": "code",
   "execution_count": 1,
   "metadata": {},
   "outputs": [],
   "source": [
    "# Importing libraries... \n",
    "\n",
    "import pandas as pd\n",
    "import numpy as np \n",
    "import matplotlib.pyplot as plt \n",
    "import seaborn as sns\n",
    "\n",
    "import warnings\n",
    "warnings.simplefilter(\"ignore\")\n",
    "\n"
   ]
  },
  {
   "cell_type": "code",
   "execution_count": 211,
   "metadata": {},
   "outputs": [
    {
     "output_type": "execute_result",
     "data": {
      "text/plain": [
       "      Experience                                               Work  \\\n",
       "0  15 - 20 years  Communication / Graphic design|Data science|In...   \n",
       "1    5 - 9 years  Communication / Graphic design|Environmental d...   \n",
       "\n",
       "                                          Work_place  \\\n",
       "0  Advertising|Architecture|Arts / Entertainment|...   \n",
       "1                   Consulting|Consumer goods|Retail   \n",
       "\n",
       "                                              Skills  \\\n",
       "0  Business operations|Data visualization|Leaders...   \n",
       "1  Art direction|Drawing / Painting|Project manag...   \n",
       "\n",
       "                                            Skills_1  \\\n",
       "0   Business operations|Writing (published articles)   \n",
       "1  Art direction|Data visualization|Drawing / Pai...   \n",
       "\n",
       "                    Type_of_employement                          Industry  \\\n",
       "0  Self-employed / Small business owner                               NaN   \n",
       "1                             Freelance  Branding|Industrial design|Other   \n",
       "\n",
       "  Type_of_business Status Reason_to_work  ... Zip_code Age  Gender LGBTQIA  \\\n",
       "0              NaN    NaN            NaN  ...    11249  37    Male      No   \n",
       "1              NaN    NaN            NaN  ...    10010  30  Female      No   \n",
       "\n",
       "          Background                                           Reason_1  \\\n",
       "0  White / Caucasian  Algorithmic bias|Automation in the workplace|D...   \n",
       "1  White / Caucasian  Design's role in consumerism|Environmental imp...   \n",
       "\n",
       "                                            Issues_1  \\\n",
       "0                                                NaN   \n",
       "1  Field over saturation, environmental impact, p...   \n",
       "\n",
       "                                            Impact_1  \\\n",
       "0  AI / Machine learning|Biological / Genetic des...   \n",
       "1  Energy technology|Image recognition|Networked ...   \n",
       "\n",
       "                                            Skills_2  \\\n",
       "0                Empathy|Leadership|Systems thinking   \n",
       "1  Communication / Listening|Cross-cultural skill...   \n",
       "\n",
       "                                          Priorities  \n",
       "0  Work / Career|Family / Friends / Pets|Side hus...  \n",
       "1       Work / Career|Family / Friends / Pets|Travel  \n",
       "\n",
       "[2 rows x 40 columns]"
      ],
      "text/html": "<div>\n<style scoped>\n    .dataframe tbody tr th:only-of-type {\n        vertical-align: middle;\n    }\n\n    .dataframe tbody tr th {\n        vertical-align: top;\n    }\n\n    .dataframe thead th {\n        text-align: right;\n    }\n</style>\n<table border=\"1\" class=\"dataframe\">\n  <thead>\n    <tr style=\"text-align: right;\">\n      <th></th>\n      <th>Experience</th>\n      <th>Work</th>\n      <th>Work_place</th>\n      <th>Skills</th>\n      <th>Skills_1</th>\n      <th>Type_of_employement</th>\n      <th>Industry</th>\n      <th>Type_of_business</th>\n      <th>Status</th>\n      <th>Reason_to_work</th>\n      <th>...</th>\n      <th>Zip_code</th>\n      <th>Age</th>\n      <th>Gender</th>\n      <th>LGBTQIA</th>\n      <th>Background</th>\n      <th>Reason_1</th>\n      <th>Issues_1</th>\n      <th>Impact_1</th>\n      <th>Skills_2</th>\n      <th>Priorities</th>\n    </tr>\n  </thead>\n  <tbody>\n    <tr>\n      <th>0</th>\n      <td>15 - 20 years</td>\n      <td>Communication / Graphic design|Data science|In...</td>\n      <td>Advertising|Architecture|Arts / Entertainment|...</td>\n      <td>Business operations|Data visualization|Leaders...</td>\n      <td>Business operations|Writing (published articles)</td>\n      <td>Self-employed / Small business owner</td>\n      <td>NaN</td>\n      <td>NaN</td>\n      <td>NaN</td>\n      <td>NaN</td>\n      <td>...</td>\n      <td>11249</td>\n      <td>37</td>\n      <td>Male</td>\n      <td>No</td>\n      <td>White / Caucasian</td>\n      <td>Algorithmic bias|Automation in the workplace|D...</td>\n      <td>NaN</td>\n      <td>AI / Machine learning|Biological / Genetic des...</td>\n      <td>Empathy|Leadership|Systems thinking</td>\n      <td>Work / Career|Family / Friends / Pets|Side hus...</td>\n    </tr>\n    <tr>\n      <th>1</th>\n      <td>5 - 9 years</td>\n      <td>Communication / Graphic design|Environmental d...</td>\n      <td>Consulting|Consumer goods|Retail</td>\n      <td>Art direction|Drawing / Painting|Project manag...</td>\n      <td>Art direction|Data visualization|Drawing / Pai...</td>\n      <td>Freelance</td>\n      <td>Branding|Industrial design|Other</td>\n      <td>NaN</td>\n      <td>NaN</td>\n      <td>NaN</td>\n      <td>...</td>\n      <td>10010</td>\n      <td>30</td>\n      <td>Female</td>\n      <td>No</td>\n      <td>White / Caucasian</td>\n      <td>Design's role in consumerism|Environmental imp...</td>\n      <td>Field over saturation, environmental impact, p...</td>\n      <td>Energy technology|Image recognition|Networked ...</td>\n      <td>Communication / Listening|Cross-cultural skill...</td>\n      <td>Work / Career|Family / Friends / Pets|Travel</td>\n    </tr>\n  </tbody>\n</table>\n<p>2 rows × 40 columns</p>\n</div>"
     },
     "metadata": {},
     "execution_count": 211
    }
   ],
   "source": [
    "# importing file... \n",
    "\n",
    "data = pd.read_csv(r'DesignCensus2019_RAW DATA.csv')\n",
    "data.head(2)"
   ]
  },
  {
   "cell_type": "code",
   "execution_count": 212,
   "metadata": {},
   "outputs": [],
   "source": [
    "data.Experience = data.Experience.apply(lambda x: x.replace(' years', '').replace(' - ','-'))\n",
    "\n",
    "data.Work = data.Work.apply(lambda x: x.replace(' / ', ',').replace('|',',').replace(' (', '').replace(')',''))\n",
    "\n",
    "data.Work_place = data.Work_place.apply(lambda x: x.replace(' / ', ',').replace('|',',').replace(' (', '').replace(')','').replace(' + ',','))\n",
    "\n",
    "data.Skills = data.Skills.apply(lambda x: x.replace(' / ', ',').replace('|',',').replace(' (', '').replace(')','').replace(' + ',','))\n",
    "\n",
    "# Additional skills for the job. \n",
    "data.Skills_1 = data.Skills_1.apply(lambda x: x.replace(' / ', ',').replace('|',',').replace(' (', '').replace(')','').replace(' + ',','))\n",
    "\n",
    "data.Type_of_employement = data.Type_of_employement.apply(lambda x : x.replace('Full-time employee (in-house)', 'FT_WFH').replace('Full-time employee (agency/consultancy)', 'FT').replace('Self-employed / Small business owner', 'Self').replace('Permalance (agency, in-house, etc.)', 'Permalance'))\n",
    "\n",
    "data.Industry = data.Industry.fillna('Freelance Projects')\n",
    "data.Industry = data.Industry.apply(lambda x: x.replace(' / ', ',').replace('|',',').replace(' (', '').replace(')','').replace(' + ',','))\n",
    "\n",
    "\n",
    "data.Designation = data.Designation.apply(lambda x: x.replace('or', ',').replace('|',',').replace(' / ',','))\n",
    "\n",
    "\n",
    "\n",
    "data['Size_of_company'] = data.Size_of_company.apply(lambda x: x.replace('employees','').replace(' - ','-'))\n",
    "\n",
    "data.Group = data.Group.apply(lambda x: x.replace('people', '').replace(' - ','-').replace('Just me','1'))\n",
    "\n",
    "data.Present_company_experience = data.Present_company_experience.apply(lambda x: x.replace('years', '').replace(' - ','-').replace('Less than 1 year','<1'))\n",
    "\n",
    "data.Experience_1 = data.Experience_1.apply(lambda x: x.replace('years', '').replace(' - ','-').replace('Less than 1 year','<1'))\n",
    "\n",
    "data.Work_hours = data.Work_hours.apply(lambda x: x.replace('hours', '').replace(' - ','-').replace('Less than 1 year','').replace(' + ', ''))\n",
    "\n",
    "\n",
    "data['Opportunity'] = data['Description_2']\n",
    "\n",
    "data.Opportunity = data.Opportunity.apply(lambda x: x.replace('Some opportunity for advancement','Few').replace('Limited opportunity for advancement','Limited').replace('Promising opportunities for advancement','More').replace('No opportunity for advancement','No'))\n",
    "\n",
    "data['Learning_type'] = data['Description_3']\n",
    "\n",
    "data.Learning_type = data.Learning_type.apply(lambda x: x.replace('Learning some new skills','New skills').replace('Learning and increasing my skill set every day','Increasing skills').replace('Learning very little','Very little').replace('Learning nothing','No'))\n",
    "\n",
    "data['Job_Satisfaction'] = data.Status_1\n",
    "\n",
    "data.Job_Satisfaction = data.Job_Satisfaction.apply(lambda x: x.replace(\"Happy, but there's room for improvement\",'Satisfied').replace('Not really satisfied, but I deal','Not Satisfied').replace('Extremely satisfied with my work situation','Very Satisfied ').replace('Ready to call it quits','Ready to quit'))\n",
    "\n",
    "data['Job_concerns'] = data.Status_2\n",
    "\n",
    "data.Job_concerns = data.Job_concerns.apply(lambda x: x.replace('Fairly stable', 'Stable').replace(\"I'm a little concerned\",'unstable').replace('Rock solid','Very stable').replace('I keep my things in a box', 'To be stable'))\n",
    "\n",
    "\n",
    "data.Degree = data.Degree.apply(lambda X: X.replace(' / ',',').replace('|',',')) # should change column name to education background... \n",
    "\n",
    "data.No_of_jobs = data.No_of_jobs.apply(lambda x : x.replace('jobs', '').replace(' - ','-').replace('This is my first job', '1')) # previours job experiences... \n",
    "\n",
    "\n",
    "data.Background = data.Background.apply(lambda x: x.replace(' / ','/'))\n",
    "\n",
    "# Zipcode, age, gender, LGBTQIA are in perfect structure.. \n",
    "\n"
   ]
  },
  {
   "cell_type": "code",
   "execution_count": 213,
   "metadata": {},
   "outputs": [
    {
     "output_type": "execute_result",
     "data": {
      "text/plain": [
       "Index(['Experience', 'Work', 'Work_place', 'Skills', 'Skills_1',\n",
       "       'Type_of_employement', 'Industry', 'Type_of_business', 'Status',\n",
       "       'Reason_to_work', 'Designation', 'Description', 'Description_1',\n",
       "       'Size_of_company', 'Group', 'Present_company_experience',\n",
       "       'Experience_1', 'Work_hours', 'Salary', 'Benefits', 'Description_2',\n",
       "       'Description_3', 'Status_1', 'Status_2', 'type_of_employ',\n",
       "       'Education_level', 'Degree', 'No_of_jobs', 'Description_4', 'Status_4',\n",
       "       'Zip_code', 'Age', 'Gender', 'LGBTQIA', 'Background', 'Reason_1',\n",
       "       'Issues_1', 'Impact_1', 'Skills_2', 'Priorities', 'Opportunity',\n",
       "       'Learning_type', 'Job_Satisfaction', 'Job_concerns'],\n",
       "      dtype='object')"
      ]
     },
     "metadata": {},
     "execution_count": 213
    }
   ],
   "source": [
    "data.columns"
   ]
  },
  {
   "cell_type": "code",
   "execution_count": 214,
   "metadata": {},
   "outputs": [],
   "source": [
    "del data['Impact_1']\n",
    "del data['Skills_2']\n",
    "del data['Priorities'] # not necessory, for basics study it would be very complicated.\n",
    "del data['Status_4']\n",
    "del data['type_of_employ'] # lot of data to clean and data is in the form of description... \n",
    "del data['Education_level'] # very unstructured data.. time consuming to work on... skip for fast predictions and conclustions..\n",
    "del data['Status_2'] # created a new modified column \n",
    "del data['Status_1'] # created a new modified column \n",
    "del data['Description_3']  # created a new modified column\n",
    "del data['Description_2']  # created a new modified column\n",
    "del data['Benefits']\n",
    "del data['Description'] # more data to clean and lots of reasons to filter. \n",
    "del data['Description_1'] # more data to clean and lots of reasons to filter.\n",
    "del data['Status'] # not enought data to process with... (Would be very important if available)\n",
    "del data['Reason_to_work'] # not enought data to process with... ( may not be that important)"
   ]
  },
  {
   "cell_type": "code",
   "execution_count": 215,
   "metadata": {},
   "outputs": [
    {
     "output_type": "execute_result",
     "data": {
      "text/plain": [
       "  Experience                                               Work  \\\n",
       "0      15-20  Communication,Graphic design,Data science,Inte...   \n",
       "1        5-9  Communication,Graphic design,Environmental des...   \n",
       "2        5-9              Communication,Graphic design,Strategy   \n",
       "3      15-20  AI,Algorithm design,Interaction design,Researc...   \n",
       "4      15-20  Communication,Graphic design,Motion graphics,S...   \n",
       "\n",
       "                                          Work_place  \\\n",
       "0  Advertising,Architecture,Arts,Entertainment,Co...   \n",
       "1                   Consulting,Consumer goods,Retail   \n",
       "2                               Government,Marketing   \n",
       "3  Arts,Entertainment,Data sciences,Digital produ...   \n",
       "4  Advertising,Arts,Entertainment,Consulting,Digi...   \n",
       "\n",
       "                                              Skills  \\\n",
       "0  Business operations,Data visualization,Leaders...   \n",
       "1  Art direction,Drawing,Painting,Project managem...   \n",
       "2  Art direction,Data visualization,Photography,P...   \n",
       "3           Business development,Mentoring,UX design   \n",
       "4  Art direction,Coding,Leadership,UI design,UX d...   \n",
       "\n",
       "                                            Skills_1 Type_of_employement  \\\n",
       "0      Business operations,Writingpublished articles                Self   \n",
       "1  Art direction,Data visualization,Drawing,Paint...           Freelance   \n",
       "2  Art direction,Drawing,Painting,Facilitation,Me...              FT_WFH   \n",
       "3  AI,Algorithm design,Business operations,Coding...          Permalance   \n",
       "4  3D,Animation softwareRhino, After Effects, Uni...                  FT   \n",
       "\n",
       "                                            Industry Type_of_business  \\\n",
       "0                                 Freelance Projects              NaN   \n",
       "1                   Branding,Industrial design,Other              NaN   \n",
       "2                                 Freelance Projects       Non-Profit   \n",
       "3  Branding,Digital product design,Management,Bus...              NaN   \n",
       "4  Advertising,Branding,Digital product design,Ma...              NaN   \n",
       "\n",
       "                                         Designation Size_of_company  ... Age  \\\n",
       "0                        Owner, partner, , principal          11-50   ...  37   \n",
       "1                  Seni, designer,Mid-level designer         1,000+   ...  30   \n",
       "2                              Design lead , manager         51-100   ...  30   \n",
       "3  Owner, partner, , principal,C-level (CXO, CDO,...           1-10   ...  52   \n",
       "4                         Creative direct, , direct,          11-50   ...  37   \n",
       "\n",
       "   Gender LGBTQIA       Background  \\\n",
       "0    Male      No  White/Caucasian   \n",
       "1  Female      No  White/Caucasian   \n",
       "2    Male      No  White/Caucasian   \n",
       "3  Female      No  White/Caucasian   \n",
       "4    Male     Yes  White/Caucasian   \n",
       "\n",
       "                                            Reason_1  \\\n",
       "0  Algorithmic bias|Automation in the workplace|D...   \n",
       "1  Design's role in consumerism|Environmental imp...   \n",
       "2  Designing for disabilities|Design's role in co...   \n",
       "3  Algorithmic bias|Automation in the workplace|D...   \n",
       "4  Automation in the workplace|Design/designers n...   \n",
       "\n",
       "                                            Issues_1 Opportunity  \\\n",
       "0                                                NaN        More   \n",
       "1  Field over saturation, environmental impact, p...    Not sure   \n",
       "2                                                NaN     Limited   \n",
       "3                                                NaN         Few   \n",
       "4                                                NaN          No   \n",
       "\n",
       "       Learning_type  Job_Satisfaction  Job_concerns  \n",
       "0  Increasing skills         Satisfied        Stable  \n",
       "1        Very little     Not Satisfied        Stable  \n",
       "2        Very little     Not Satisfied      unstable  \n",
       "3  Increasing skills     Not Satisfied      unstable  \n",
       "4         New skills         Satisfied        Stable  \n",
       "\n",
       "[5 rows x 29 columns]"
      ],
      "text/html": "<div>\n<style scoped>\n    .dataframe tbody tr th:only-of-type {\n        vertical-align: middle;\n    }\n\n    .dataframe tbody tr th {\n        vertical-align: top;\n    }\n\n    .dataframe thead th {\n        text-align: right;\n    }\n</style>\n<table border=\"1\" class=\"dataframe\">\n  <thead>\n    <tr style=\"text-align: right;\">\n      <th></th>\n      <th>Experience</th>\n      <th>Work</th>\n      <th>Work_place</th>\n      <th>Skills</th>\n      <th>Skills_1</th>\n      <th>Type_of_employement</th>\n      <th>Industry</th>\n      <th>Type_of_business</th>\n      <th>Designation</th>\n      <th>Size_of_company</th>\n      <th>...</th>\n      <th>Age</th>\n      <th>Gender</th>\n      <th>LGBTQIA</th>\n      <th>Background</th>\n      <th>Reason_1</th>\n      <th>Issues_1</th>\n      <th>Opportunity</th>\n      <th>Learning_type</th>\n      <th>Job_Satisfaction</th>\n      <th>Job_concerns</th>\n    </tr>\n  </thead>\n  <tbody>\n    <tr>\n      <th>0</th>\n      <td>15-20</td>\n      <td>Communication,Graphic design,Data science,Inte...</td>\n      <td>Advertising,Architecture,Arts,Entertainment,Co...</td>\n      <td>Business operations,Data visualization,Leaders...</td>\n      <td>Business operations,Writingpublished articles</td>\n      <td>Self</td>\n      <td>Freelance Projects</td>\n      <td>NaN</td>\n      <td>Owner, partner, , principal</td>\n      <td>11-50</td>\n      <td>...</td>\n      <td>37</td>\n      <td>Male</td>\n      <td>No</td>\n      <td>White/Caucasian</td>\n      <td>Algorithmic bias|Automation in the workplace|D...</td>\n      <td>NaN</td>\n      <td>More</td>\n      <td>Increasing skills</td>\n      <td>Satisfied</td>\n      <td>Stable</td>\n    </tr>\n    <tr>\n      <th>1</th>\n      <td>5-9</td>\n      <td>Communication,Graphic design,Environmental des...</td>\n      <td>Consulting,Consumer goods,Retail</td>\n      <td>Art direction,Drawing,Painting,Project managem...</td>\n      <td>Art direction,Data visualization,Drawing,Paint...</td>\n      <td>Freelance</td>\n      <td>Branding,Industrial design,Other</td>\n      <td>NaN</td>\n      <td>Seni, designer,Mid-level designer</td>\n      <td>1,000+</td>\n      <td>...</td>\n      <td>30</td>\n      <td>Female</td>\n      <td>No</td>\n      <td>White/Caucasian</td>\n      <td>Design's role in consumerism|Environmental imp...</td>\n      <td>Field over saturation, environmental impact, p...</td>\n      <td>Not sure</td>\n      <td>Very little</td>\n      <td>Not Satisfied</td>\n      <td>Stable</td>\n    </tr>\n    <tr>\n      <th>2</th>\n      <td>5-9</td>\n      <td>Communication,Graphic design,Strategy</td>\n      <td>Government,Marketing</td>\n      <td>Art direction,Data visualization,Photography,P...</td>\n      <td>Art direction,Drawing,Painting,Facilitation,Me...</td>\n      <td>FT_WFH</td>\n      <td>Freelance Projects</td>\n      <td>Non-Profit</td>\n      <td>Design lead , manager</td>\n      <td>51-100</td>\n      <td>...</td>\n      <td>30</td>\n      <td>Male</td>\n      <td>No</td>\n      <td>White/Caucasian</td>\n      <td>Designing for disabilities|Design's role in co...</td>\n      <td>NaN</td>\n      <td>Limited</td>\n      <td>Very little</td>\n      <td>Not Satisfied</td>\n      <td>unstable</td>\n    </tr>\n    <tr>\n      <th>3</th>\n      <td>15-20</td>\n      <td>AI,Algorithm design,Interaction design,Researc...</td>\n      <td>Arts,Entertainment,Data sciences,Digital produ...</td>\n      <td>Business development,Mentoring,UX design</td>\n      <td>AI,Algorithm design,Business operations,Coding...</td>\n      <td>Permalance</td>\n      <td>Branding,Digital product design,Management,Bus...</td>\n      <td>NaN</td>\n      <td>Owner, partner, , principal,C-level (CXO, CDO,...</td>\n      <td>1-10</td>\n      <td>...</td>\n      <td>52</td>\n      <td>Female</td>\n      <td>No</td>\n      <td>White/Caucasian</td>\n      <td>Algorithmic bias|Automation in the workplace|D...</td>\n      <td>NaN</td>\n      <td>Few</td>\n      <td>Increasing skills</td>\n      <td>Not Satisfied</td>\n      <td>unstable</td>\n    </tr>\n    <tr>\n      <th>4</th>\n      <td>15-20</td>\n      <td>Communication,Graphic design,Motion graphics,S...</td>\n      <td>Advertising,Arts,Entertainment,Consulting,Digi...</td>\n      <td>Art direction,Coding,Leadership,UI design,UX d...</td>\n      <td>3D,Animation softwareRhino, After Effects, Uni...</td>\n      <td>FT</td>\n      <td>Advertising,Branding,Digital product design,Ma...</td>\n      <td>NaN</td>\n      <td>Creative direct, , direct,</td>\n      <td>11-50</td>\n      <td>...</td>\n      <td>37</td>\n      <td>Male</td>\n      <td>Yes</td>\n      <td>White/Caucasian</td>\n      <td>Automation in the workplace|Design/designers n...</td>\n      <td>NaN</td>\n      <td>No</td>\n      <td>New skills</td>\n      <td>Satisfied</td>\n      <td>Stable</td>\n    </tr>\n  </tbody>\n</table>\n<p>5 rows × 29 columns</p>\n</div>"
     },
     "metadata": {},
     "execution_count": 215
    }
   ],
   "source": [
    "data.head()"
   ]
  },
  {
   "cell_type": "code",
   "execution_count": 216,
   "metadata": {},
   "outputs": [],
   "source": [
    "data.to_csv('cleandesigndata.csv')"
   ]
  }
 ],
 "metadata": {
  "kernelspec": {
   "display_name": "Python 3.8.0 64-bit",
   "language": "python",
   "name": "python38064bitaf9e556eaddc49d48ea54e79f310c155"
  },
  "language_info": {
   "codemirror_mode": {
    "name": "ipython",
    "version": 3
   },
   "file_extension": ".py",
   "mimetype": "text/x-python",
   "name": "python",
   "nbconvert_exporter": "python",
   "pygments_lexer": "ipython3",
   "version": "3.8.0-final"
  }
 },
 "nbformat": 4,
 "nbformat_minor": 4
}